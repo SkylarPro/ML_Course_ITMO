{
  "nbformat": 4,
  "nbformat_minor": 0,
  "metadata": {
    "colab": {
      "name": "Копия блокнота \"lab1.ipynb\"",
      "provenance": [],
      "collapsed_sections": []
    },
    "kernelspec": {
      "display_name": "Python 3",
      "language": "python",
      "name": "python3"
    },
    "language_info": {
      "codemirror_mode": {
        "name": "ipython",
        "version": 3
      },
      "file_extension": ".py",
      "mimetype": "text/x-python",
      "name": "python",
      "nbconvert_exporter": "python",
      "pygments_lexer": "ipython3",
      "version": "3.7.4"
    }
  },
  "cells": [
    {
      "cell_type": "markdown",
      "metadata": {
        "id": "BsNwjQDRfmLY"
      },
      "source": [
        "# Задание 1"
      ]
    },
    {
      "cell_type": "markdown",
      "metadata": {
        "id": "wu6r1-s7fmLe"
      },
      "source": [
        "---"
      ]
    },
    {
      "cell_type": "markdown",
      "metadata": {
        "id": "zxRIdPO9gYyX"
      },
      "source": [
        "Напишите программу, которая будет решать систему линейных уравнений вида:\n",
        "\n",
        "\\begin{matrix} a_{11}x+a_{12}y=b_{1}&(1) \\\\ a_{21}x+a_{22}y=b_{2} &(2) \\end{matrix}\n",
        "​\t\n",
        "На вход программа должна принимать 2 строки.\n",
        "\n",
        "Каждая строка содержит 3 действительных числа через пробел: коэффициенты a и b.\n",
        "\n",
        "На выходе программа должна выдавать значения x и y в одну строку через пробел.\n",
        " \n",
        "\n",
        "Примечание 1. Для разделения строки на отдельные элементы используйте функцию split()\n",
        "\n",
        "Примечание 2. В качестве разделителя между целой и дробной частью используйте точку, например 0.2"
      ]
    },
    {
      "cell_type": "code",
      "metadata": {
        "id": "6sxlcLbVlrjl",
        "colab": {
          "base_uri": "https://localhost:8080/",
          "height": 34
        },
        "outputId": "10382905-44ad-45d7-eafe-bca3a5839ddf"
      },
      "source": [
        "from numpy import linalg\n",
        "import numpy as np\n",
        "def linan(param1:str, param2:str, count = 2) -> str:\n",
        "   arr = np.array([[i, j] for i, j in zip(param1.split(),param2.split())]).astype(float)\n",
        "   b,a = arr[-1], arr[:-1]\n",
        "   a = np.concatenate((np.array([a[:,i] for i in range(count)]))).reshape(2,-1)\n",
        "   return str(linalg.solve(a,b))[1:-1]\n",
        "\n",
        "linan(\"1 2 3\", \"4 5 6\")"
      ],
      "execution_count": null,
      "outputs": [
        {
          "output_type": "execute_result",
          "data": {
            "application/vnd.google.colaboratory.intrinsic+json": {
              "type": "string"
            },
            "text/plain": [
              "'-1.  2.'"
            ]
          },
          "metadata": {},
          "execution_count": 1
        }
      ]
    },
    {
      "cell_type": "markdown",
      "metadata": {
        "id": "wLoVDMQnfmOv"
      },
      "source": [
        "# Задание 2"
      ]
    },
    {
      "cell_type": "markdown",
      "metadata": {
        "id": "6bmt_YF3fmOw"
      },
      "source": [
        "Напишите функцию `decorate_matrix`, которая получает на вход одно целое число больше единицы. Функция должна возвращать матрицу n на n, у которой на границах стоят единицы, а на всех остальных позициях(если остались позиции не на границах) стоят нули.\n",
        "\n",
        "Нужно сделать без использования  циклов.\n",
        "\n",
        "```\n",
        "# ожидаемый резальтат для аргумента 5\n",
        "array([[1., 1., 1., 1., 1.],\n",
        "[1., 0., 0., 0., 1.],\n",
        "[1., 0., 0., 0., 1.],\n",
        "[1., 0., 0., 0., 1.],\n",
        "[1., 1., 1., 1., 1.]])\n",
        "```\n",
        "\n"
      ]
    },
    {
      "cell_type": "code",
      "metadata": {
        "id": "JNrjTSUwOUr1",
        "colab": {
          "base_uri": "https://localhost:8080/"
        },
        "outputId": "3d9b999f-2c47-44d0-81f9-50681667d9e4"
      },
      "source": [
        "def decorate_matrix(n):\n",
        "  ones = np.zeros((n, n))\n",
        "  ones[-1,:] = ones[0,:] = ones[:,-1] = ones[:,0] = 1\n",
        "  return ones\n",
        "decorate_matrix(4)"
      ],
      "execution_count": null,
      "outputs": [
        {
          "output_type": "execute_result",
          "data": {
            "text/plain": [
              "array([[1., 1., 1., 1.],\n",
              "       [1., 0., 0., 1.],\n",
              "       [1., 0., 0., 1.],\n",
              "       [1., 1., 1., 1.]])"
            ]
          },
          "metadata": {},
          "execution_count": 3
        }
      ]
    },
    {
      "cell_type": "markdown",
      "metadata": {
        "id": "75sxny1zSCbl"
      },
      "source": [
        "# Задание 3"
      ]
    },
    {
      "cell_type": "markdown",
      "metadata": {
        "id": "2Xq1tBBAS5UJ"
      },
      "source": [
        "1) реализуйте 2 функции:\n",
        "\n",
        "$f(x) = (x+a)^2 - b$ \n",
        "\n",
        "$g(x) = |f(x)|$\n",
        "\n",
        "2) Найдите аргументы, при которых достигается минимум функций $f(x)$ и $g(x)$\n",
        "\n",
        "Пример. \n",
        "Входные значение: $a=3$ и $b=4$\n",
        "\n",
        "Выходные значения:\n",
        "\n",
        "`-3.0 -1.0`"
      ]
    },
    {
      "cell_type": "code",
      "metadata": {
        "id": "oNam3w-VSVRv",
        "colab": {
          "base_uri": "https://localhost:8080/",
          "height": 280
        },
        "outputId": "495d4a4f-5629-49c6-88d1-3e870a29b9f8"
      },
      "source": [
        "import math\n",
        "import matplotlib.pyplot as plt\n",
        "import numpy as np\n",
        "\n",
        "def equationroots(a, b, c): \n",
        "\n",
        "    dis = b * b - 4 * a * c \n",
        "    sqrt_val = math.sqrt(abs(dis)) \n",
        "\n",
        "    if dis > 0: \n",
        "        return [(-b + sqrt_val)/(2 * a), (-b - sqrt_val)/(2 * a)]\n",
        "      \n",
        "    elif dis == 0: \n",
        "        return [-b / (2 * a),]\n",
        "    else:\n",
        "        assert False, \"Complex Roots\"\n",
        "        # print(- b / (2 * a), \" + i\", sqrt_val) \n",
        "        # print(- b / (2 * a), \" - i\", sqrt_val) \n",
        "\n",
        "def function(a = 3, b = 4, visual = True):\n",
        "  minfx = -a\n",
        "  mingx = [-a] if -b >= 0 else equationroots(1, 2*a, a**2-b)\n",
        "  if visual:\n",
        "    x = np.arange(-4*a,4*a,0.1)\n",
        "    fx = (x+a)**2 - b\n",
        "    gx = abs((x+a)**2 - b)\n",
        "    temp = [0,0] if len(mingx) == 2 else -b\n",
        "    plt.scatter(minfx, -b,color = \"black\", marker='.')\n",
        "    plt.scatter(mingx, temp,color = \"green\", marker='.')\n",
        "\n",
        "    plt.plot(x,fx,label = \"f(x)\")\n",
        "    plt.plot(x,gx,label =\"g(x)\")\n",
        "\n",
        "    plt.show()\n",
        "  return minfx, mingx\n",
        "  \n",
        "function(2,5)"
      ],
      "execution_count": null,
      "outputs": [
        {
          "output_type": "display_data",
          "data": {
            "image/png": "[encoded data removed]",
            "text/plain": [
              "<Figure size 432x288 with 1 Axes>"
            ]
          },
          "metadata": {
            "needs_background": "light"
          }
        },
        {
          "output_type": "execute_result",
          "data": {
            "text/plain": [
              "(-2, [0.2360679774997898, -4.23606797749979])"
            ]
          },
          "metadata": {},
          "execution_count": 71
        }
      ]
    },
    {
      "cell_type": "markdown",
      "metadata": {
        "id": "efml9GzISC9Q"
      },
      "source": [
        "# Задание 4"
      ]
    },
    {
      "cell_type": "markdown",
      "metadata": {
        "id": "SDZvKcsTVbAW"
      },
      "source": [
        "Постройте графики для функций из предыдущего задания и отметьте другим цветом на графиках точки найденных минимумов."
      ]
    },
    {
      "cell_type": "code",
      "metadata": {
        "id": "maYSm_anar1m"
      },
      "source": [
        "continue"
      ],
      "execution_count": null,
      "outputs": []
    },
    {
      "cell_type": "markdown",
      "metadata": {
        "id": "mrby3EfiSDKJ"
      },
      "source": [
        "# Задание 5"
      ]
    },
    {
      "cell_type": "markdown",
      "metadata": {
        "id": "J6AZ8785VkQd"
      },
      "source": [
        "1000 человек бросают монетку. Каждый бросил 10 раз подряд.\n",
        "\n",
        " 1. Какова вероятность того, что хотя бы у одного человека монетка выпала 10 раз подряд той же самой стороной (орлом или решкой)? \n",
        " 2. Какова вероятность того, что хотя бы у одного человека монетка выпала 8 раз подряд той же самой стороной (орлом или решкой)? \n",
        " 3. Какова вероятность того, что ровно у троих человек из 1000 монетка выпала 10 раз подряд той же самой стороной (орлом или решкой)?"
      ]
    },
    {
      "cell_type": "code",
      "metadata": {
        "colab": {
          "base_uri": "https://localhost:8080/"
        },
        "id": "88ni6tlChO9L",
        "outputId": "17affa0a-16a4-4461-b4cf-748a5ee8f4ed"
      },
      "source": [
        "#1\n",
        "import numpy as np\n",
        "count_game = 10\n",
        "count_people = 1000\n",
        "games = np.random.randint(0,2,(count_game,count_people,10))\n",
        "count = 0\n",
        "check = np.ones(8)\n",
        "for game in games:\n",
        "  for line in game:\n",
        "    if np.all(line == 1) or np.all(line == 0):\n",
        "      count +=1 \n",
        "print(count/count_game/count_people)\n",
        "\n",
        "\n",
        "count = 0\n",
        "sum = 0 \n",
        "for game in games:\n",
        "  for line in game:\n",
        "    for idx, prob in enumerate(line):\n",
        "      if prob == 1:\n",
        "        sum += 1\n",
        "      if idx > 1 and sum - idx <= -2:\n",
        "        break\n",
        "      if idx == 9:\n",
        "        count +=1 \n",
        "    sum = 0\n",
        "print(count/count_game/count_people)\n",
        "\n",
        "#3\n",
        "count1 = 0\n",
        "count2 = 0 \n",
        "for game in games:\n",
        "  for line in game:\n",
        "    if np.all(line == 1 ) or np.all(line == 0):\n",
        "      count1 +=1 \n",
        "  if (count1 == 3):\n",
        "    count2 += 1\n",
        "    count1 = 0\n",
        "print(count2/count_game/count_people)"
      ],
      "execution_count": null,
      "outputs": [
        {
          "output_type": "stream",
          "name": "stdout",
          "text": [
            "0.0016\n",
            "0.0551\n",
            "0.0001\n"
          ]
        }
      ]
    }
  ]
}