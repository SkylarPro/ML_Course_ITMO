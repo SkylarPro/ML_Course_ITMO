{
  "nbformat": 4,
  "nbformat_minor": 0,
  "metadata": {
    "hide_input": false,
    "kernelspec": {
      "display_name": "Python 3",
      "language": "python",
      "name": "python3"
    },
    "language_info": {
      "codemirror_mode": {
        "name": "ipython",
        "version": 3
      },
      "file_extension": ".py",
      "mimetype": "text/x-python",
      "name": "python",
      "nbconvert_exporter": "python",
      "pygments_lexer": "ipython3",
      "version": "3.7.1"
    },
    "toc": {
      "base_numbering": 1,
      "nav_menu": {},
      "number_sections": true,
      "sideBar": true,
      "skip_h1_title": false,
      "title_cell": "Table of Contents",
      "title_sidebar": "Contents",
      "toc_cell": true,
      "toc_position": {},
      "toc_section_display": true,
      "toc_window_display": false
    },
    "varInspector": {
      "cols": {
        "lenName": 16,
        "lenType": 16,
        "lenVar": 40
      },
      "kernels_config": {
        "python": {
          "delete_cmd_postfix": "",
          "delete_cmd_prefix": "del ",
          "library": "var_list.py",
          "varRefreshCmd": "print(var_dic_list())"
        },
        "r": {
          "delete_cmd_postfix": ") ",
          "delete_cmd_prefix": "rm(",
          "library": "var_list.r",
          "varRefreshCmd": "cat(var_dic_list()) "
        }
      },
      "types_to_exclude": [
        "module",
        "function",
        "builtin_function_or_method",
        "instance",
        "_Feature"
      ],
      "window_display": false
    },
    "colab": {
      "name": "Копия блокнота \"lab2.ipynb\"",
      "provenance": [],
      "collapsed_sections": []
    }
  },
  "cells": [
    {
      "cell_type": "code",
      "metadata": {
        "ExecuteTime": {
          "end_time": "2020-04-23T10:16:05.965275Z",
          "start_time": "2020-04-23T10:16:05.312704Z"
        },
        "id": "bZ7J0si68JdT"
      },
      "source": [
        "import pandas as pd\n",
        "import numpy as np"
      ],
      "execution_count": null,
      "outputs": []
    },
    {
      "cell_type": "markdown",
      "metadata": {
        "id": "xjvL0IIG8Jd0"
      },
      "source": [
        "## Задание 0\n"
      ]
    },
    {
      "cell_type": "markdown",
      "metadata": {
        "id": "yaSxXHvxO0qo"
      },
      "source": [
        "Для всех  заданий будем использовать обезличенные транзакционные банковские данные. Для этого считайте в переменные **tr_mcc_codes, tr_types, transactions и gender_train** из одноимённых таблиц из папки [data](https://drive.google.com/drive/folders/1YAMe7MiTxA-RSSd8Ex2p-L0Dspe6Gs4L). \n",
        "\n",
        "Для таблицы transactions используйте только первые n=1000000 строк. При чтении файлов обратите внимание на разделители внутри каждого из файлов - они могут различаться!"
      ]
    },
    {
      "cell_type": "code",
      "metadata": {
        "colab": {
          "base_uri": "https://localhost:8080/"
        },
        "id": "U9rgf_HTztyx",
        "outputId": "3a135785-c8ef-40b8-bae0-7e905da8a7ce"
      },
      "source": [
        "from google.colab import drive\n",
        "drive.mount('/content/drive')"
      ],
      "execution_count": null,
      "outputs": [
        {
          "output_type": "stream",
          "name": "stdout",
          "text": [
            "Mounted at /content/drive\n"
          ]
        }
      ]
    },
    {
      "cell_type": "markdown",
      "metadata": {
        "id": "oP3lX9xC8Jd8"
      },
      "source": [
        "###  Описание данных\n",
        "#### Таблица ```transactions.csv```\n",
        "##### Описание\n",
        "Таблица содержит историю транзакций клиентов банка за один год и три месяца.\n",
        "\n",
        "##### Формат данных\n",
        "\n",
        "```\n",
        "customer_id,tr_datetime,mcc_code,tr_type,amount,term_id\n",
        "111111,15 01:40:52,1111,1000,-5224,111111\n",
        "111112,15 15:18:32,3333,2000,-100,11122233\n",
        "...\n",
        "```\n",
        "##### Описание полей\n",
        "\n",
        " - ```customer_id``` — идентификатор клиента;\n",
        " - ```tr_datetime``` — день и время совершения транзакции (дни нумеруются с начала данных);\n",
        " - ```mcc_code``` — mcc-код транзакции;\n",
        " - ```tr_type``` — тип транзакции;\n",
        " - ```amount``` — сумма транзакции в условных единицах со знаком; ```+``` — начисление средств клиенту (приходная транзакция), ```-``` — списание средств (расходная транзакция);\n",
        " - ```term_id``` — идентификатор терминала;\n",
        "\n",
        "\n",
        "#### Таблица ```gender_train.csv```\n",
        "\n",
        "##### Описание\n",
        "Данная таблица содержит информацию по полу для части клиентов, для которых он известен. Для остальных клиентов пол неизвестен.\n",
        "\n",
        "##### Формат данных\n",
        "```\n",
        "customer_id,gender\n",
        "111111,0\n",
        "111112,1\n",
        "...\n",
        "```\n",
        "\n",
        "##### Описание полей\n",
        " - ```customer_id``` — идентификатор клиента;\n",
        " - ```gender``` — пол клиента;\n",
        "\n",
        "### Таблица ```tr_mcc_codes.csv```\n",
        "\n",
        "##### Описание\n",
        "Данная таблица содержит описание mcc-кодов транзакций.\n",
        "\n",
        "##### Формат данных\n",
        "```\n",
        "mcc_code;mcc_description\n",
        "1000;словесное описание mcc-кода 1000\n",
        "2000;словесное описание mcc-кода 2000\n",
        "...\n",
        "```\n",
        "\n",
        "##### Описание полей\n",
        " - ```mcc_code``` – mcc-код транзакции;\n",
        " - ```mcc_description``` — описание mcc-кода транзакции.\n",
        "\n",
        "#### Таблица ```tr_types.csv```\n",
        "\n",
        "##### Описание\n",
        "Данная таблица содержит описание типов транзакций.\n",
        "\n",
        "##### Формат данных\n",
        "```\n",
        "tr_type;tr_description\n",
        "1000;словесное описание типа транзакции 1000\n",
        "2000;словесное описание типа транзакции 2000\n",
        "...\n",
        "```\n",
        "\n",
        "##### Описание полей\n",
        " - ```tr_type``` – тип транзакции;\n",
        " - ```tr_description``` — описание типа транзакции;"
      ]
    },
    {
      "cell_type": "markdown",
      "metadata": {
        "id": "04CYsBKz8JeB"
      },
      "source": [
        "## Задание 1\n",
        "\n"
      ]
    },
    {
      "cell_type": "markdown",
      "metadata": {
        "id": "1hcrfwsYN_Yz"
      },
      "source": [
        "1. Для столбца tr_type датафрейма transactions выберите произвольные 1000 строк с помощью метода sample\n",
        "2. В полученной на предыдущем этапе подвыборке найдите долю транзакций (стобец tr_description в датасете tr_types), в которой содержится подстрока 'POS' или 'ATM'\n",
        "\n",
        "Без использования merge!"
      ]
    },
    {
      "cell_type": "code",
      "metadata": {
        "id": "Q-124FeF1BAO"
      },
      "source": [
        "trans = pd.read_csv(\"/content/drive/MyDrive/Data/transactions.csv\").sample(1000, random_state=1)\n",
        "tr_ty = pd.read_csv(\"/content/drive/MyDrive/Data/tr_types.csv\",sep=\";\")"
      ],
      "execution_count": null,
      "outputs": []
    },
    {
      "cell_type": "code",
      "metadata": {
        "colab": {
          "base_uri": "https://localhost:8080/"
        },
        "id": "bEaTLIo7rxsx",
        "outputId": "0dfb1eb2-f960-4345-eaaa-29716866b1a6"
      },
      "source": [
        "tr_ty[(tr_ty.tr_description.str.find(\"POS\")!=-1) | (tr_ty.tr_description.str.find(\"ATM\")!=-1)].tr_type.unique().shape[0] / trans.tr_type.unique().shape[0]"
      ],
      "execution_count": null,
      "outputs": [
        {
          "output_type": "execute_result",
          "data": {
            "text/plain": [
              "0.875"
            ]
          },
          "metadata": {},
          "execution_count": 5
        }
      ]
    },
    {
      "cell_type": "markdown",
      "metadata": {
        "id": "fiZBDIZt8JeS"
      },
      "source": [
        "## Задание 2 \n"
      ]
    },
    {
      "cell_type": "markdown",
      "metadata": {
        "id": "FFKeBUThOCrz"
      },
      "source": [
        "1. Для столбца tr_type датафрейма transactions посчитайте частоту встречаемости всех типов транзакций tr_type в transactions.\n",
        "2. Выведите топ-10 транзакций по частоте встречаемости."
      ]
    },
    {
      "cell_type": "code",
      "metadata": {
        "id": "cVBrfyqi-ojM",
        "colab": {
          "base_uri": "https://localhost:8080/"
        },
        "outputId": "dfb9ebe0-aecb-4021-ccc6-5598e9c62381"
      },
      "source": [
        "top10 = trans[\"tr_type\"].value_counts()[:10]\n",
        "top10"
      ],
      "execution_count": null,
      "outputs": [
        {
          "output_type": "execute_result",
          "data": {
            "text/plain": [
              "1010    245\n",
              "2010    147\n",
              "1030    143\n",
              "1110    132\n",
              "7070     98\n",
              "2370     64\n",
              "7010     30\n",
              "7030     20\n",
              "1100     17\n",
              "1200     17\n",
              "Name: tr_type, dtype: int64"
            ]
          },
          "metadata": {},
          "execution_count": 6
        }
      ]
    },
    {
      "cell_type": "markdown",
      "metadata": {
        "id": "mktm_JeA8JeX"
      },
      "source": [
        "## Задание 3\n",
        "1. В датафрейме transactions найдите клиента с максимальной суммой приходов на карту\n",
        "2. В датафрейме transactions найдите клиента с максимальной суммой расходов по карте\n",
        "3. Найдите разницу для этих клиентов между суммой расходов и суммой приходов"
      ]
    },
    {
      "cell_type": "code",
      "metadata": {
        "colab": {
          "base_uri": "https://localhost:8080/"
        },
        "id": "nkhclBC0oxMS",
        "outputId": "2b530350-6667-4b32-a1eb-1437f257e17d"
      },
      "source": [
        "id_max_cash = trans.groupby(trans[trans.amount > 0].customer_id).sum().amount.idxmax()\n",
        "max_cash = trans.groupby(trans[trans.amount > 0].customer_id).sum().amount.max()\n",
        "\n",
        "dif_out_in1 = trans[(trans.amount < 0) & (trans.customer_id == id_max_cash)].amount.sum() - trans[(trans.amount > 0) & (trans.customer_id == id_max_cash)].amount.sum() \n",
        "\n",
        "\n",
        "id_max_spend = trans.groupby(trans[trans.amount < 0].customer_id).sum().amount.idxmin()\n",
        "max_spend = trans.groupby(trans[trans.amount < 0].customer_id).sum().amount.min()\n",
        "\n",
        "dif_out_in2 = trans[(trans.amount < 0) & (trans.customer_id == id_max_spend)].amount.sum() - trans[(trans.amount > 0) & (trans.customer_id == id_max_spend)].amount.sum() \n",
        "\n",
        "\n",
        "print(f\"id {id_max_cash} max cash {max_cash}, difference between spend and cash {dif_out_in1}\")\n",
        "print(f\"id {id_max_spend} max spend {max_spend}, difference between cash and spend {dif_out_in2}\")"
      ],
      "execution_count": null,
      "outputs": [
        {
          "output_type": "stream",
          "name": "stdout",
          "text": [
            "id 48433830.0 max cash 1909028.41, difference between spend and cash -1909028.41\n",
            "id 66647597.0 max spend -4491831.54, difference between cash and spend -4491831.54\n"
          ]
        }
      ]
    },
    {
      "cell_type": "markdown",
      "metadata": {
        "id": "BYrJ5b_E8Jee"
      },
      "source": [
        "## Задание 4\n",
        "1. Найдите среднее арифметическое и медиану по amount по всем типам транзакций из топ 10 из задания 2\n",
        "1. Найдите среднее арифметическое и медиану по amount по всем типам транзакций для клиентов из задания 3"
      ]
    },
    {
      "cell_type": "code",
      "metadata": {
        "colab": {
          "base_uri": "https://localhost:8080/"
        },
        "id": "Z2KZGcqtKRHy",
        "outputId": "324c0a8e-e2ee-4802-f3c4-e98b4335b805"
      },
      "source": [
        "#1\n",
        "ten = dict(top10)\n",
        "for tr in ten.keys():\n",
        "  ten[tr] = (sum(trans[trans[\"tr_type\"] == tr].amount)/ten[tr],trans[trans[\"tr_type\"] == tr].amount.median())\n",
        "print(ten)"
      ],
      "execution_count": null,
      "outputs": [
        {
          "output_type": "stream",
          "name": "stdout",
          "text": [
            "{1010: (-23887.977346938787, -6715.29), 2010: (-145740.07210884365, -44918.32), 1030: (-3528.2190909090905, -2245.92), 1110: (-30586.12833333333, -10101.005000000001), 7070: (74012.93540816326, 14025.74), 2370: (-146191.55296875, -38180.57), 7010: (315551.1663333333, 145984.525), 7030: (27515.928499999998, 13026.31), 1100: (-45406.37882352941, -11229.58), 1200: (-28233.09, -6715.29)}\n"
          ]
        }
      ]
    },
    {
      "cell_type": "code",
      "metadata": {
        "colab": {
          "base_uri": "https://localhost:8080/"
        },
        "id": "wuF4FPqd-YNE",
        "outputId": "14a05f0f-dfb4-4f0b-f6cf-bce93529d973"
      },
      "source": [
        "print(f\"Median for client max spend {trans[trans.customer_id == id_max_spend].amount.median()}\")\n",
        "print(f\"Mean For client max spend {trans[trans.customer_id == id_max_spend].amount.mean()} \\n\")\n",
        "\n",
        "print(f\"Median for client max cashe {trans[trans.customer_id == id_max_cash].amount.median()}\")\n",
        "print(f\"Mean For client max cashe {trans[trans.customer_id == id_max_cash].amount.mean()}\")"
      ],
      "execution_count": null,
      "outputs": [
        {
          "output_type": "stream",
          "name": "stdout",
          "text": [
            "Median for client max spend -4491831.54\n",
            "Mean For client max spend -4491831.54 \n",
            "\n",
            "Median for client max cashe 1909028.41\n",
            "Mean For client max cashe 1909028.41\n"
          ]
        }
      ]
    },
    {
      "cell_type": "markdown",
      "metadata": {
        "id": "BYXwM4l3QDBu"
      },
      "source": [
        "## Подготовка для заданий 5-8"
      ]
    },
    {
      "cell_type": "markdown",
      "metadata": {
        "id": "XWQzFeKcQHRe"
      },
      "source": [
        "*Из заданий 5-8 нужно выполнить минимум два любых*\n",
        "\n",
        "Соедините transactions с всеми остальными таблицами (tr_mcc_codes, tr_types, gender_train). Причём с gender_train необходимо смёрджиться с помощью left join, а с оставшимися датафреймами - через inner.\n",
        "После получения результата таблицы gender_train, tr_types, tr_mcc_codes можно удалить. В результате соединения датафреймов должно получиться 999584 строки."
      ]
    },
    {
      "cell_type": "code",
      "metadata": {
        "id": "ulyOa8czX70J"
      },
      "source": [
        "import pandas as pd"
      ],
      "execution_count": null,
      "outputs": []
    },
    {
      "cell_type": "code",
      "metadata": {
        "colab": {
          "base_uri": "https://localhost:8080/"
        },
        "id": "HDyb44y7sKyl",
        "outputId": "2848571f-9b1f-4ebb-c1dd-fe61c78b2e15"
      },
      "source": [
        "transactions = pd.read_csv(\"/content/drive/MyDrive/Data/transactions.csv\")\n",
        "gender_train = pd.read_csv(\"/content/drive/MyDrive/Data/gender_train.csv\")\n",
        "tr_mcc_codes = pd.read_csv(\"/content/drive/MyDrive/Data/tr_mcc_codes.csv\",sep=';')\n",
        "tr_types = pd.read_csv(\"/content/drive/MyDrive/Data/tr_types.csv\",sep=';')\n",
        "transactions.shape"
      ],
      "execution_count": null,
      "outputs": [
        {
          "output_type": "execute_result",
          "data": {
            "text/plain": [
              "(6849346, 6)"
            ]
          },
          "metadata": {},
          "execution_count": 2
        }
      ]
    },
    {
      "cell_type": "code",
      "metadata": {
        "id": "sndJxjJ7QQf5",
        "colab": {
          "base_uri": "https://localhost:8080/"
        },
        "outputId": "83fdca81-063e-4623-cb68-0aa0dc74e182"
      },
      "source": [
        "transactions = pd.merge(transactions, gender_train, how='left', on = \"customer_id\")\n",
        "transactions = pd.merge(transactions, tr_mcc_codes, how='inner',on = \"mcc_code\")\n",
        "transactions = pd.merge(transactions, tr_types, how='inner',on = \"tr_type\")\n",
        "transactions.shape"
      ],
      "execution_count": null,
      "outputs": [
        {
          "output_type": "execute_result",
          "data": {
            "text/plain": [
              "(6846580, 9)"
            ]
          },
          "metadata": {},
          "execution_count": 3
        }
      ]
    },
    {
      "cell_type": "markdown",
      "metadata": {
        "id": "8vrFauJ8QgmT"
      },
      "source": [
        "## Задание 5"
      ]
    },
    {
      "cell_type": "markdown",
      "metadata": {
        "id": "rOjEQ5xyQfE_"
      },
      "source": [
        "1. Определите модуль разницы между средними тратами женщин и мужчин (трата - отрицательное значение amount).\n",
        "2. Определите модуль разницы между средними поступлениями у мужчин и женщин\n",
        "\n",
        "Обратите внимание, что для вычисления модуля разности точных знаний о том, \n",
        "какой класc относится к мужчинам, а какой - к женщинам, не требуется."
      ]
    },
    {
      "cell_type": "code",
      "metadata": {
        "id": "YrgLpGMpvaWh",
        "colab": {
          "base_uri": "https://localhost:8080/"
        },
        "outputId": "89bd3d83-725a-4167-fa0d-f4f20d1da8e8"
      },
      "source": [
        "abs(transactions[(transactions[\"gender\"] == 0) & (transactions[\"amount\"] < 0)].amount.mean() - transactions[(transactions[\"gender\"] == 1) & (transactions[\"amount\"] < 0)].amount.mean())"
      ],
      "execution_count": null,
      "outputs": [
        {
          "output_type": "execute_result",
          "data": {
            "text/plain": [
              "24748.03831069907"
            ]
          },
          "metadata": {},
          "execution_count": 12
        }
      ]
    },
    {
      "cell_type": "code",
      "metadata": {
        "id": "g20qx-E0wZjN",
        "colab": {
          "base_uri": "https://localhost:8080/"
        },
        "outputId": "2e982369-6724-464d-bcd7-43a35125f1f5"
      },
      "source": [
        "abs(transactions[(transactions[\"gender\"] == 0) & (transactions[\"amount\"] > 0)].amount.mean() - transactions[(transactions[\"gender\"] == 1) & (transactions[\"amount\"] > 0)].amount.mean())"
      ],
      "execution_count": null,
      "outputs": [
        {
          "output_type": "execute_result",
          "data": {
            "text/plain": [
              "65084.173920174886"
            ]
          },
          "metadata": {},
          "execution_count": 13
        }
      ]
    },
    {
      "cell_type": "markdown",
      "metadata": {
        "id": "DSHFLbepQ7G1"
      },
      "source": [
        "## Задание 6"
      ]
    },
    {
      "cell_type": "markdown",
      "metadata": {
        "id": "2EF1490bQ-17"
      },
      "source": [
        "1. По всем типам транзакций рассчитайте максимальную сумму прихода на карту (из строго положительных сумм по столбцу amount) отдельно для мужчин и женщин (назовите ее \"max_income\"). Оставьте по 10 транзакций для мужчин и для женщин, наименьших среди всех транзакций по полученным значениям \"max_income\". \n",
        "2. Выделите среди них те типы транзакций, которые встречаются одновременно и у мужчин, и у женщин"
      ]
    },
    {
      "cell_type": "code",
      "metadata": {
        "colab": {
          "base_uri": "https://localhost:8080/",
          "height": 261
        },
        "id": "xg-PIU3bxKUv",
        "outputId": "66ca736a-fc9c-4af2-b8e3-1d8abf5fef06"
      },
      "source": [
        "max_girl = pd.DataFrame(transactions.groupby(transactions[(transactions.amount > 0) & (transactions.gender == 0)].tr_type).amount.max().sort_values().iloc[:10])\n",
        "max_girl.rename(columns = {\"amount\":\"amount_girl\"}, inplace=True)\n",
        "max_men = pd.DataFrame(transactions.groupby(transactions[(transactions.amount > 0) & (transactions.gender == 1)].tr_type).amount.max().sort_values().iloc[:10])\n",
        "max_men.rename(columns = {\"amount\":\"amount_men\"}, inplace=True)\n",
        "max_income = max_men.merge(max_girl,on = \"tr_type\")\n",
        "max_income"
      ],
      "execution_count": null,
      "outputs": [
        {
          "output_type": "execute_result",
          "data": {
            "text/html": [
              "<div>\n",
              "<style scoped>\n",
              "    .dataframe tbody tr th:only-of-type {\n",
              "        vertical-align: middle;\n",
              "    }\n",
              "\n",
              "    .dataframe tbody tr th {\n",
              "        vertical-align: top;\n",
              "    }\n",
              "\n",
              "    .dataframe thead th {\n",
              "        text-align: right;\n",
              "    }\n",
              "</style>\n",
              "<table border=\"1\" class=\"dataframe\">\n",
              "  <thead>\n",
              "    <tr style=\"text-align: right;\">\n",
              "      <th></th>\n",
              "      <th>amount_men</th>\n",
              "      <th>amount_girl</th>\n",
              "    </tr>\n",
              "    <tr>\n",
              "      <th>tr_type</th>\n",
              "      <th></th>\n",
              "      <th></th>\n",
              "    </tr>\n",
              "  </thead>\n",
              "  <tbody>\n",
              "    <tr>\n",
              "      <th>4051.0</th>\n",
              "      <td>381.81</td>\n",
              "      <td>1122.96</td>\n",
              "    </tr>\n",
              "    <tr>\n",
              "      <th>4071.0</th>\n",
              "      <td>673.77</td>\n",
              "      <td>1010.66</td>\n",
              "    </tr>\n",
              "    <tr>\n",
              "      <th>4110.0</th>\n",
              "      <td>3144.28</td>\n",
              "      <td>4469.37</td>\n",
              "    </tr>\n",
              "    <tr>\n",
              "      <th>4210.0</th>\n",
              "      <td>4166.17</td>\n",
              "      <td>5246.91</td>\n",
              "    </tr>\n",
              "    <tr>\n",
              "      <th>4100.0</th>\n",
              "      <td>5220.63</td>\n",
              "      <td>5041.86</td>\n",
              "    </tr>\n",
              "    <tr>\n",
              "      <th>8146.0</th>\n",
              "      <td>22459.16</td>\n",
              "      <td>14823.04</td>\n",
              "    </tr>\n",
              "  </tbody>\n",
              "</table>\n",
              "</div>"
            ],
            "text/plain": [
              "         amount_men  amount_girl\n",
              "tr_type                         \n",
              "4051.0       381.81      1122.96\n",
              "4071.0       673.77      1010.66\n",
              "4110.0      3144.28      4469.37\n",
              "4210.0      4166.17      5246.91\n",
              "4100.0      5220.63      5041.86\n",
              "8146.0     22459.16     14823.04"
            ]
          },
          "metadata": {},
          "execution_count": 5
        }
      ]
    },
    {
      "cell_type": "markdown",
      "metadata": {
        "id": "W-LaVwRdR3UB"
      },
      "source": [
        "## Задание 7"
      ]
    },
    {
      "cell_type": "markdown",
      "metadata": {
        "id": "rhI4NOciR7e0"
      },
      "source": [
        "1. Найдите суммы затрат по каждой категории (mcc) для мужчин и для женщин. \n",
        "2. Найдите топ 5 категорий с самыми большими относительными модулями разности для в тратах для разных полов."
      ]
    },
    {
      "cell_type": "code",
      "metadata": {
        "colab": {
          "base_uri": "https://localhost:8080/"
        },
        "id": "xhFbn4wt1-mp",
        "outputId": "24bdc6ef-a387-4526-efed-6c0bbeed5fc6"
      },
      "source": [
        "men_spend = transactions.groupby(transactions[(transactions.gender == 1) & (transactions.amount  < 0)].mcc_code).amount.sum()\n",
        "girl_spend = transactions.groupby(transactions[(transactions.gender == 0) & (transactions.amount  < 0)].mcc_code).amount.sum()\n",
        "girl_spend.sub(men_spend,).dropna().abs().sort_values().iloc[-5:].index"
      ],
      "execution_count": null,
      "outputs": [
        {
          "output_type": "execute_result",
          "data": {
            "text/plain": [
              "Float64Index([5812.0, 5541.0, 6010.0, 4829.0, 6011.0], dtype='float64', name='mcc_code')"
            ]
          },
          "metadata": {},
          "execution_count": 6
        }
      ]
    },
    {
      "cell_type": "markdown",
      "metadata": {
        "id": "aGaPkQkVSvl8"
      },
      "source": [
        "## Задание 8"
      ]
    },
    {
      "cell_type": "markdown",
      "metadata": {
        "id": "T7Ox1qAXTHQl"
      },
      "source": [
        "1. Из поля tr_datetime выделите час tr_hour, в который произошла транзакция, как первые 2 цифры до \":\". (\\**)\n",
        "2. Посчитайте количество транзакций с amount>0 в ночное время для мужчин и женщин. Ночное время - это примерно 00-06 часов. "
      ]
    },
    {
      "cell_type": "code",
      "metadata": {
        "colab": {
          "base_uri": "https://localhost:8080/"
        },
        "id": "EjVa8_4q4848",
        "outputId": "5b2519bf-19e9-448b-95b6-2942b7157d85"
      },
      "source": [
        "transactions.tr_datetime = transactions.tr_datetime.apply(lambda x:x.split()[-1][:x.split()[-1].find(\":\")])\n",
        "trans = transactions[(transactions.amount > 0) & (transactions.tr_datetime == \"00\")]\n",
        "print(f\"For men {trans[trans.gender == 1].shape[0]}\")\n",
        "print(f\"For men {trans[trans.gender == 0].shape[0]}\")"
      ],
      "execution_count": null,
      "outputs": [
        {
          "output_type": "stream",
          "name": "stdout",
          "text": [
            "For men 10335\n",
            "For men 8357\n"
          ]
        }
      ]
    }
  ]
}