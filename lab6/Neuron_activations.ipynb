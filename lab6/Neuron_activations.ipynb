{
  "nbformat": 4,
  "nbformat_minor": 0,
  "metadata": {
    "colab": {
      "name": "Копия блокнота \"test 6.2 neuron_activations.ipynb\"",
      "provenance": [],
      "collapsed_sections": []
    },
    "kernelspec": {
      "display_name": "Python 3",
      "language": "python",
      "name": "python3"
    }
  },
  "cells": [
    {
      "cell_type": "markdown",
      "metadata": {
        "id": "lkoop-MT9if-"
      },
      "source": [
        "# Нейрон с различными функциями активации"
      ]
    },
    {
      "cell_type": "markdown",
      "metadata": {
        "id": "IUjxg_IS31tn"
      },
      "source": [
        "В этом задании нужно будет: \n",
        "- самостоятельно реализовать класс **`Neuron()`** с различными функциями активации (ReLU, LeakyReLU и ELU)\n",
        "\n",
        "- обучить и протестировать этот класс на сгенерированных и реальных данных\n",
        "\n",
        "**Достаточно реализовать ReLU и ещё одну из двух.**"
      ]
    },
    {
      "cell_type": "code",
      "metadata": {
        "id": "p-OYlV519igB"
      },
      "source": [
        "from matplotlib import pyplot as plt\n",
        "from matplotlib.colors import ListedColormap\n",
        "import numpy as np\n",
        "import pandas as pd"
      ],
      "execution_count": null,
      "outputs": []
    },
    {
      "cell_type": "code",
      "metadata": {
        "id": "t1VCt_rDHum3"
      },
      "source": [
        "RANDOM_SEED = 42\n",
        "np.random.seed(RANDOM_SEED)"
      ],
      "execution_count": null,
      "outputs": []
    },
    {
      "cell_type": "markdown",
      "metadata": {
        "id": "cgpFOaPm9igG"
      },
      "source": [
        "В данном случае мы снова решаем задачу бинарной классификации (2 класса: 1 или 0). Мы уже выяснили (в ноутбуке про `logloss`), что плохо брать для классификации квадратичную функцию потерь, однако здесь для простоты возьмём её:\n",
        "\n",
        "$$\n",
        "Loss(\\hat{y}, y) = \\frac{1}{n}\\sum_{i=1}^{n} (\\hat{y_i} - y_i)^2\n",
        "$$  \n",
        "\n",
        "Здесь $w \\cdot X_i$ - скалярное произведение, а $\\hat{y_i} = \\sigma(w \\cdot X_i) =\\frac{1}{1+e^{-w \\cdot X_i}} $ - сигмоида ($i$ -- номер объекта в выборке). "
      ]
    },
    {
      "cell_type": "code",
      "metadata": {
        "id": "yn3F0layHunD"
      },
      "source": [
        "def Loss(y_pred, y):\n",
        "    y_pred = y_pred.reshape(-1, 1)\n",
        "    y = np.array(y).reshape(-1, 1)\n",
        "    return 0.5 * np.mean((y_pred - y) ** 2)"
      ],
      "execution_count": null,
      "outputs": []
    },
    {
      "cell_type": "markdown",
      "metadata": {
        "id": "rYoQAdXoHunK"
      },
      "source": [
        "Далее будут предложены несколько функций активации, и Вам нужно реализовать класс `Neuron` по аналогии с тем, как это было на семинаре. Сам принцип тот же, но меняются формула обновления весов и формула предсказания."
      ]
    },
    {
      "cell_type": "markdown",
      "metadata": {
        "id": "WHvdwJW9HunN"
      },
      "source": [
        "<h2 style=\"text-align: center;\"><b>Нейрон с ReLU (Recitified Linear Unit)</b></h2>  "
      ]
    },
    {
      "cell_type": "markdown",
      "metadata": {
        "id": "AMA7Gi6KHunQ"
      },
      "source": [
        "ReLU самая часто используемая (по крайней мере, пару лет назад) функция активации в нейронных сетях. Выглядит она очень просто:\n",
        "\n",
        "\\begin{equation*}\n",
        "ReLU(x) =\n",
        " \\begin{cases}\n",
        "   0, &\\text{$x \\le 0$}\\\\\n",
        "   x, &\\text{$x \\gt 0$}\n",
        " \\end{cases}\n",
        "\\end{equation*}\n",
        "\n",
        "Или по-другому:\n",
        "\n",
        "$$\n",
        "ReLU(x) = \\max(0, x)\n",
        "$$\n",
        "\n",
        "В (свободном) переводе Rectified Linear Unit = \"Усечённая линейная функция\". Собственно, мы по сути просто не даём проходить отрицательным числам.\n",
        "\n",
        "Производная здесь берётся как производная от кусочно-заданной функции, то есть на участках, где функция гладкая, и в нуле её доопредляют нулём:\n",
        "\n",
        "\\begin{equation*}\n",
        "ReLU'(x) = \n",
        " \\begin{cases}\n",
        "   0, &\\text{$x \\le 0$}\\\\\n",
        "   1, &\\text{$x \\gt 0$}\n",
        " \\end{cases}\n",
        "\\end{equation*}\n",
        "\n",
        "Подставим ReLu в Loss:\n",
        "\n",
        "$$Loss(\\hat{y}, y) = \\frac{1}{2n}\\sum_{i=1}^{n} (\\hat{y_i} - y_i)^2 = \\frac{1}{2n}\\sum_{i=1}^{n} (ReLU(w \\cdot X_i) - y_i)^2 = \\begin{equation*}\n",
        "\\frac{1}{2n}\\sum_{i=1}^{n}\n",
        " \\begin{cases}\n",
        "    y_i^2, &{w \\cdot X_i \\le 0}\\\\\n",
        "   (w \\cdot X_i - y_i)^2, &{w \\cdot X_i \\gt 0}\n",
        " \\end{cases}\n",
        "\\end{equation*}$$  \n",
        "\n",
        "(помните, что $w \\cdot X_i$ -- это число в данном случае (результат скалярного произведения двух векторов)).\n",
        "\n",
        "Тогда формула для обновления весов при градиентном спуске будет такая (в матричном виде, рекмоендуем вывести самим то, как это получается из формулы для одного объекта):\n",
        "\n",
        "$$ \\frac{\\partial Loss}{\\partial w} = \\begin{equation*}\n",
        "\\frac{1}{n}\\sum_{i=1}^{n}\n",
        " \\begin{cases}\n",
        "   0, &{w \\cdot X_i \\le 0}\\\\\n",
        "   \\frac{1}{n} X_i^T (w \\cdot X_i - y), &{w \\cdot X_i \\gt 0}\n",
        " \\end{cases}\n",
        "\\end{equation*}$$\n",
        "\n",
        "(напоминаем, что здесь $w \\cdot X$ -- матричное произведение вектора $w$ (ведь вектор -- тоже матрица, не так ли?) и матрицы $X$ )\n",
        "\n",
        "Почему в первом случае будет 0? Потому что в формулу $y_i^2$ не входят веса , а мы берём производную именно по весам $w$.\n",
        "\n",
        "* Реализуйте ReLU и её производную:"
      ]
    },
    {
      "cell_type": "markdown",
      "metadata": {
        "id": "qKurn-7F9igN"
      },
      "source": [
        "Теперь нужно написать нейрон с ReLU. Здесь всё очень похоже на перцептрон, но будут по-другому обновляться веса и другая функция активации:"
      ]
    },
    {
      "cell_type": "code",
      "metadata": {
        "id": "AM9vn3OX9igO"
      },
      "source": [
        "import torch\n",
        "class NeuronReLU:\n",
        "    def __init__(self, w=None, b=0):\n",
        "        \"\"\"\n",
        "        :param: w -- вектор весов\n",
        "        :param: b -- смещение\n",
        "        \"\"\"\n",
        "        self.w = w\n",
        "        self.b = b\n",
        "\n",
        "    def activate(self, x):\n",
        "        linear = torch.mm(x,self.w) + self.b\n",
        "        return torch.where(linear > 0,linear, 0.0)\n",
        "    \n",
        "    def loss(self, y_pred, y_target):\n",
        "        return 0.5 * ((y_pred - y_target) ** 2).mean()\n",
        "\n",
        "        \n",
        "    def forward_pass(self, X):\n",
        "        \"\"\"\n",
        "        Рассчитывает ответ нейрона при предъявлении набора объектов\n",
        "        :param: X -- матрица примеров размера (n, m), каждая строка - отдельный объект\n",
        "        :return: вектор размера (n, 1) из нулей и единиц с ответами нейрона \n",
        "        \"\"\"\n",
        "        out = self.activate(X)\n",
        "        return out\n",
        "    \n",
        "    def backward_pass(self, X, y, y_pred, lr=0.005):\n",
        "        \"\"\"\n",
        "        Обновляет значения весов нейрона в соответствии с этим объектом\n",
        "        :param: X -- матрица входов размера (n, m)\n",
        "                y -- вектор правильных ответов размера (n, 1)\n",
        "                learning_rate - \"скорость обучения\" (символ alpha в формулах выше)\n",
        "        В этом методе ничего возвращать не нужно, только правильно поменять веса\n",
        "        с помощью градиентного спуска.\n",
        "        \"\"\"\n",
        "        idx = torch.where(y_pred > 0.0)[0]\n",
        "        if idx.shape[0] > 0:\n",
        "          self.w -= lr*torch.mm(X[idx].T,(y_pred[idx] - y[idx]))\n",
        "          self.b -= lr*(y_pred[idx] - y[idx]).mean()\n",
        "        \n",
        "    def fit(self, X, y, num_epochs=300,lr = 0.005):\n",
        "        \"\"\"\n",
        "        Спускаемся в минимум\n",
        "        :param: X -- матрица объектов размера (n, m)\n",
        "                y -- вектор правильных ответов размера (n, 1)\n",
        "                num_epochs -- количество итераций обучения\n",
        "        :return: losses -- вектор значений функции потерь\n",
        "        \"\"\"\n",
        "        torch.random.manual_seed(42)\n",
        "        self.w = torch.rand((X.shape[1],1)).double()  # столбец (m, 1)\n",
        "        self.b = 0  # смещение\n",
        "        loss_values = []  # значения функции потерь на различных итерациях обновления весов\n",
        "        \n",
        "        for i in range(num_epochs):\n",
        "            # предсказания с текущими весами\n",
        "            y_pred = self.forward_pass(X)\n",
        "            # считаем функцию потерь с текущими весами\n",
        "            loss_values.append(self.loss(y_pred, y))\n",
        "            # обновляем веса по формуле градиентного спуска\n",
        "            self.backward_pass(X, y, y_pred,lr)\n",
        "\n",
        "        return loss_values\n",
        "\n",
        "    def predict(self,X):\n",
        "        preds = torch.zeros((X.shape[0],1))\n",
        "        out = self.activate(X)\n",
        "        out = out.mean(dim = 1)\n",
        "        return out"
      ],
      "execution_count": null,
      "outputs": []
    },
    {
      "cell_type": "markdown",
      "metadata": {
        "id": "thtFp-at9igS"
      },
      "source": [
        "<h3 style=\"text-align: center;\"><b>Тестирование нейрона с ReLU</b></h3>  "
      ]
    },
    {
      "cell_type": "markdown",
      "metadata": {
        "id": "hOuYzf_u9igS"
      },
      "source": [
        "Здесь вам нужно самим протестировать новый нейрон **на тех же данных** (\"Яблоки и Груши\" и \"Голос\") по аналогии с тем, как это было проделано с перцептроном.\n",
        "В итоге нужно вывести: \n",
        "* график, на котором будет показано, как изменяется функция потерь $Loss$ в зависимости от числа итераций обучения\n",
        "* график с раскраской выборки нейроном"
      ]
    },
    {
      "cell_type": "markdown",
      "metadata": {
        "id": "chEeb88gHuny"
      },
      "source": [
        "***ПРИМЕЧАНИЕ***: пожалуйста, почаще проверяйте `.shape` у матриц и векторов: `self.w`, `X` и `y` внутри класса. Очень часто ошибка решается транспонированием или `.reshape()`'ом. Не забывайте проверять, что на что Вы умножаете и какой вектор (какой размер) хотите получить на выходе -- это очень помогает не запутаться."
      ]
    },
    {
      "cell_type": "code",
      "metadata": {
        "id": "sdCMiYbTLXmo"
      },
      "source": [
        "import pandas as pd\n",
        "from sklearn.model_selection import train_test_split\n",
        "from sklearn.metrics import accuracy_score"
      ],
      "execution_count": null,
      "outputs": []
    },
    {
      "cell_type": "code",
      "metadata": {
        "id": "_H0v06bDLTy6"
      },
      "source": [
        "df_train, df_test = train_test_split(pd.read_csv(\"/content/apples_pears.csv\"),random_state = 41)\n",
        "X_train = torch.from_numpy(df_train.iloc[:,:-1].to_numpy())\n",
        "y_train = torch.from_numpy(df_train.iloc[:,-1].to_numpy()).reshape(-1,1)\n",
        "X_test = torch.from_numpy(df_test.iloc[:,:-1].to_numpy())\n",
        "y_test = torch.from_numpy(df_test.iloc[:, -1].to_numpy()).reshape(-1,1)\n"
      ],
      "execution_count": null,
      "outputs": []
    },
    {
      "cell_type": "code",
      "metadata": {
        "colab": {
          "base_uri": "https://localhost:8080/"
        },
        "id": "RWVbzkhLLJD7",
        "outputId": "2ea3fd07-a885-4114-caf7-2c1acd9c2c47"
      },
      "source": [
        "model = NeuronReLU()\n",
        "losses = model.fit(X_train,y_train,num_epochs= 30)\n",
        "\n",
        "preds = torch.where(model.predict(X_test) > 0.50, 1,0)\n",
        "\n",
        "accuracy_score(preds,y_test.reshape(-1))\n",
        "print(f\"Accuracy with tune weight model on apples_pears dataset {accuracy_score(preds,y_test.reshape(-1))}\")"
      ],
      "execution_count": null,
      "outputs": [
        {
          "output_type": "stream",
          "name": "stdout",
          "text": [
            "Accuracy with tune weight model on apples_pears dataset 0.976\n"
          ]
        }
      ]
    },
    {
      "cell_type": "markdown",
      "metadata": {
        "id": "x1pSdqArceNp"
      },
      "source": [
        "Оценим качество коробочной модели ReLu(Linear) + MSELoss и сравним с своей риализацией. Используем BatchNorm для нормализации данных, у нас функция линейна => вероятность exploding gradients это поможет решить данную проблему."
      ]
    },
    {
      "cell_type": "code",
      "metadata": {
        "id": "2x2BAHS5iI6G"
      },
      "source": [
        "df_train, df_test = train_test_split(pd.read_csv(\"/content/voice.csv\"),random_state = 41)\n",
        "X_train = torch.from_numpy(df_train.iloc[:,:-1].to_numpy())\n",
        "y_train = torch.from_numpy(np.where(df_train.iloc[:,-1].to_numpy() == \"female\", 1,0)).reshape(-1,1)\n",
        "X_test = torch.from_numpy(df_test.iloc[:,:-1].to_numpy())\n",
        "y_test = torch.from_numpy(np.where(df_test.iloc[:,-1].to_numpy() == \"female\", 1,0)).reshape(-1,1)"
      ],
      "execution_count": null,
      "outputs": []
    },
    {
      "cell_type": "code",
      "metadata": {
        "colab": {
          "base_uri": "https://localhost:8080/"
        },
        "id": "wUbtfSRTY5sS",
        "outputId": "7a7f1fed-6438-449a-adca-401b6af072fd"
      },
      "source": [
        "import torch.nn as nn\n",
        "from torch.optim import SGD\n",
        "model = nn.Sequential(\n",
        "    nn.BatchNorm1d(20),\n",
        "    nn.Linear(20,1),\n",
        "    nn.ReLU(),\n",
        ")\n",
        "loss_values = []\n",
        "loss = nn.MSELoss()\n",
        "optim = SGD(model.parameters(),lr = 1e-03)\n",
        "for i in range(30000):\n",
        "  # предсказания с текущими весами\n",
        "  y_pred = model(X_train.float())\n",
        "\n",
        "  # считаем функцию потерь с текущими весами\n",
        "  loss_value=loss(y_pred, y_train.float())\n",
        "  loss_values.append(loss_value)\n",
        "  # обновляем веса по формуле градиентного спуска\n",
        "  optim.zero_grad()\n",
        "  loss_value.backward()\n",
        "  optim.step()\n",
        "\n",
        "preds = torch.where(model(X_test.float()) > 0.50, 1,0)\n",
        "accuracy_score(preds,y_test.reshape(-1))\n",
        "print(f\"Accuracy with box model on voice dataset {accuracy_score(preds,y_test.reshape(-1))}\")"
      ],
      "execution_count": null,
      "outputs": [
        {
          "output_type": "stream",
          "name": "stdout",
          "text": [
            "Accuracy with box model on voice dataset 0.9709595959595959\n"
          ]
        }
      ]
    },
    {
      "cell_type": "code",
      "metadata": {
        "id": "T9YzIjOOcrcz"
      },
      "source": [
        "X_train = nn.BatchNorm1d(20)(X_train.float()).double().detach()\n",
        "X_test = nn.BatchNorm1d(20)(X_test.float()).double().detach()"
      ],
      "execution_count": null,
      "outputs": []
    },
    {
      "cell_type": "code",
      "metadata": {
        "colab": {
          "base_uri": "https://localhost:8080/"
        },
        "id": "x4T7cYQ4iJfl",
        "outputId": "dfa6880d-e691-40e0-e4d5-ad8c7b046421"
      },
      "source": [
        "model = NeuronReLU()\n",
        "losses = model.fit(X_train,y_train,num_epochs= 30000,lr = 1e-05)\n",
        "\n",
        "preds = torch.where(model.predict(X_test) > 0.50, 1,0)\n",
        "\n",
        "accuracy_score(preds,y_test.reshape(-1))\n",
        "print(f\"Accuracy with tune weight model on voice dataset {accuracy_score(preds,y_test.reshape(-1))}\")"
      ],
      "execution_count": null,
      "outputs": [
        {
          "output_type": "stream",
          "name": "stdout",
          "text": [
            "Accuracy with tune weight model on voice dataset 0.9457070707070707\n"
          ]
        }
      ]
    },
    {
      "cell_type": "code",
      "metadata": {
        "id": "FZDtNG6CHuop",
        "colab": {
          "base_uri": "https://localhost:8080/",
          "height": 550
        },
        "outputId": "b913b34c-7715-4c57-9934-7a44e8ba4eaa"
      },
      "source": [
        "%%time\n",
        "plt.figure(figsize=(10, 8))\n",
        "plt.plot(losses)\n",
        "plt.title('MSELoss', fontsize=15)\n",
        "plt.xlabel('iter', fontsize=14)\n",
        "plt.ylabel('$Loss(\\hat{y}, y)$', fontsize=14)\n",
        "plt.show()"
      ],
      "execution_count": null,
      "outputs": [
        {
          "output_type": "display_data",
          "data": {
            "image/png": "[encoded data removed]",
            "text/plain": [
              "<Figure size 720x576 with 1 Axes>"
            ]
          },
          "metadata": {
            "needs_background": "light"
          }
        },
        {
          "output_type": "stream",
          "name": "stdout",
          "text": [
            "CPU times: user 423 ms, sys: 10.8 ms, total: 434 ms\n",
            "Wall time: 461 ms\n"
          ]
        }
      ]
    },
    {
      "cell_type": "markdown",
      "metadata": {
        "id": "sPxo2YVeHuou"
      },
      "source": [
        "Скорее всего сейчас у вас лосс -- это прямая линия, и вы видите, что веса не обновляются. Но почему?"
      ]
    },
    {
      "cell_type": "markdown",
      "metadata": {
        "id": "mXUmEeUBHuov"
      },
      "source": [
        "Всё просто -- если присмотреться, то видно, что self.w и self.b иницилизируются нулями в начале `.fit()`-метода. Если расписать, как будет идти обновление, то видно, что из-за ReLU веса просто-напросто не будут обновляться, если начать с инициализации нулями. \n",
        "\n",
        "Это -- одна из причин, по которой в нейронных сетях веса инициализируют случаными числами (обычно из отрезка [0, 1)).\n",
        "\n",
        "Обучите нейрон, инициализировав случайно веса (поставьте 10000 итераций). \n",
        "\n",
        "Закомментируйте инициализацию нулями в функции `.fit()` класса `NeuronReLU` "
      ]
    },
    {
      "cell_type": "code",
      "metadata": {
        "id": "aL9jBoP4fzGp"
      },
      "source": [
        "df_train, df_test = train_test_split(pd.read_csv(\"/content/apples_pears.csv\"),random_state = 41)\n",
        "X_train = torch.from_numpy(df_train.iloc[:,:-1].to_numpy())\n",
        "y_train = torch.from_numpy(df_train.iloc[:,-1].to_numpy()).reshape(-1,1)\n",
        "X_test = torch.from_numpy(df_test.iloc[:,:-1].to_numpy())\n",
        "y_test = torch.from_numpy(df_test.iloc[:, -1].to_numpy()).reshape(-1,1)"
      ],
      "execution_count": null,
      "outputs": []
    },
    {
      "cell_type": "code",
      "metadata": {
        "colab": {
          "base_uri": "https://localhost:8080/"
        },
        "id": "xSYP7ifgf8vb",
        "outputId": "bfd973fe-9125-4c0f-d355-8b76a5b5d9a6"
      },
      "source": [
        "model = NeuronReLU()\n",
        "losses = model.fit(X_train,y_train,num_epochs= 30000,lr = 1e-05)\n",
        "\n",
        "preds = torch.where(model.predict(X_test) > 0.50, 1,0)\n",
        "\n",
        "accuracy_score(preds,y_test.reshape(-1))\n",
        "print(f\"Accuracy with tune weight model on voice dataset {accuracy_score(preds,y_test.reshape(-1))}\")"
      ],
      "execution_count": null,
      "outputs": [
        {
          "output_type": "stream",
          "name": "stdout",
          "text": [
            "Accuracy with tune weight model on voice dataset 0.98\n"
          ]
        }
      ]
    },
    {
      "cell_type": "code",
      "metadata": {
        "id": "hyjfcthcHupT",
        "scrolled": false,
        "colab": {
          "base_uri": "https://localhost:8080/",
          "height": 518
        },
        "outputId": "2dc3f3b9-532c-48d5-bbc1-75945a7a95d2"
      },
      "source": [
        "plt.figure(figsize=(10, 8))\n",
        "plt.scatter(df_train.iloc[:, 0], df_train.iloc[:, 1], c=np.array(model.forward_pass(X_train) > 0.5).ravel(), cmap='spring')\n",
        "plt.title('Яблоки и груши', fontsize=15)\n",
        "plt.xlabel('симметричность', fontsize=14)\n",
        "plt.ylabel('желтизна', fontsize=14)\n",
        "plt.show();"
      ],
      "execution_count": null,
      "outputs": [
        {
          "output_type": "display_data",
          "data": {
            "image/png": "[encoded data removed]",
            "text/plain": [
              "<Figure size 720x576 with 1 Axes>"
            ]
          },
          "metadata": {
            "needs_background": "light"
          }
        }
      ]
    },
    {
      "cell_type": "markdown",
      "metadata": {
        "id": "MSNZuWl9Hupd"
      },
      "source": [
        "Есть одна тенденция: пороговая функция активации и сигмоида (обычно всё же только сигмоида) чаще используются именно на **выходном слое** нейросети в задаче классификации -- ими предсказывают вероятности объектов принадлежать одному из классов, в то время как продвинутые функции активации (ReLU и те, что будут дальше) используются внутри нейросети, то есть в **скрытых слоях**."
      ]
    },
    {
      "cell_type": "markdown",
      "metadata": {
        "id": "_X3lDHElHupo"
      },
      "source": [
        "Нужно понимать что ReLU не может вернуть отрицательные числа."
      ]
    },
    {
      "cell_type": "markdown",
      "metadata": {
        "id": "sET710OVHupp"
      },
      "source": [
        "**Плюсы ReLU:**"
      ]
    },
    {
      "cell_type": "markdown",
      "metadata": {
        "id": "HY3iXGBWHupr"
      },
      "source": [
        "* дифференцируемая (с доопределе\n",
        "нием в нуле)\n",
        "* нет проблемы затухающих градиентов, как в сигмоиде"
      ]
    },
    {
      "cell_type": "markdown",
      "metadata": {
        "id": "Nr_3XwTWHups"
      },
      "source": [
        "**Возможные минусы ReLU:**"
      ]
    },
    {
      "cell_type": "markdown",
      "metadata": {
        "id": "0TAwVdRXHupt"
      },
      "source": [
        "* не центрирована около 0 (может мешать скорости сходимсти)\n",
        "* зануляет все отрицательные входы, тем самым веса у занулённых нейронов могут часто *не обновляться*, эту проблему иногда называют *мёртвые нейроны*"
      ]
    },
    {
      "cell_type": "markdown",
      "metadata": {
        "id": "Vj1JGXTPHupu"
      },
      "source": [
        "С последней проблемой можно побороться, а именно:"
      ]
    },
    {
      "cell_type": "markdown",
      "metadata": {
        "id": "Yn2taDMNHupv"
      },
      "source": [
        "<h2 style=\"text-align: center;\"><b>Нейрон с LeakyReLU (Leaky Recitified Linear Unit)</b></h2>  "
      ]
    },
    {
      "cell_type": "markdown",
      "metadata": {
        "id": "iCRBWooSHupx"
      },
      "source": [
        "LeakyReLU очень слабо отличается от ReLU, но часто помогает сети обучаться быстрее, поскольку нет проблемы \"мёртвых нейронов\":\n",
        "\n",
        "\\begin{equation*}\n",
        "LeakyReLU(x) =\n",
        " \\begin{cases}\n",
        "   \\alpha x, &\\text{$x \\le 0$}\\\\\n",
        "   x, &\\text{$x \\gt 0$}\n",
        " \\end{cases}\n",
        "\\end{equation*}\n",
        "\n",
        "где $\\alpha$ -- маленькое число от 0 до 1.\n",
        "\n",
        "Производная здесь берётся так же, но вместо нуля будет $\\alpha$:\n",
        "\n",
        "\\begin{equation*}\n",
        "LeakyReLU'(x) = \n",
        " \\begin{cases}\n",
        "   \\alpha, &\\text{$x \\le 0$}\\\\\n",
        "   1, &\\text{$x \\gt 0$}\n",
        " \\end{cases}\n",
        "\\end{equation*}\n",
        "\n",
        "График этой функции:\n",
        "\n",
        "<img src=\"https://cdn-images-1.medium.com/max/1600/0*UtLlZJ80TMIM7kXk.\" width=400 height=300>\n",
        "\n",
        "Подставим LeakyReLu в Loss:\n",
        "\n",
        "$$\n",
        "Loss(\\hat{y}, y) = \\frac{1}{2n}\\sum_{i=1}^{n} (\\hat{y_i} - y_i)^2 = \\frac{1}{2n}\\sum_{i=1}^{n} (LeakyReLU(w \\cdot X_i) - y_i)^2 =\n",
        "\\begin{equation*}\n",
        "\\frac{1}{2n}\\sum_{i=1}^{n} \n",
        " \\begin{cases}\n",
        "   (\\alpha \\cdot w \\cdot X_i - y_i)^2, &{w \\cdot X_i \\le 0}\\\\\n",
        "   (w \\cdot X_i - y_i)^2, &{w \\cdot X_i \\gt 0}\n",
        " \\end{cases}\n",
        "\\end{equation*}\n",
        "$$  \n",
        "\n",
        "Формула для обновления весов при градиентном спуске:\n",
        "\n",
        "$$ \\frac{\\partial Loss}{\\partial w} = \\begin{equation*}\n",
        "\\frac{1}{n}\\sum_{i=1}^{n} \n",
        " \\begin{cases}\n",
        "   \\alpha X_i^T (w \\cdot X_i - y), &{w \\cdot X_i \\le 0}\\\\\n",
        "    X_i^T (w \\cdot X_i - y), &{w \\cdot X_i \\gt 0}\n",
        " \\end{cases}\n",
        "\\end{equation*}$$\n",
        "\n",
        "* Реализуйте LeakyReLU и её производную:"
      ]
    },
    {
      "cell_type": "markdown",
      "metadata": {
        "id": "4pVZT9RZg738"
      },
      "source": [
        "Теперь нужно написать нейрон с LeakyReLU функцией активации. Здесь всё очень похоже на перцептрон, но будут по-другому обновляться веса и другая функция активации:"
      ]
    },
    {
      "cell_type": "code",
      "metadata": {
        "id": "UM7qpfxPg739"
      },
      "source": [
        "class NeuronLeakyReLU:\n",
        "    def __init__(self, w=None, b=0):\n",
        "        \"\"\"\n",
        "        :param: w -- вектор весов\n",
        "        :param: b -- смещение\n",
        "        \"\"\"\n",
        "        self.w = w\n",
        "        self.b = b\n",
        "        self.alpha = 0.01\n",
        "        \n",
        "        \n",
        "    def activate(self, x,):\n",
        "        linear = torch.mm(x, self.w) + self.b\n",
        "        return torch.where(linear > 0, linear, self.alpha*linear)\n",
        "    \n",
        "    def loss(self, y_pred, y_target):\n",
        "        return 0.5 * ((y_pred - y_target) ** 2).mean()\n",
        "\n",
        "        \n",
        "    def forward_pass(self, X):\n",
        "        \"\"\"\n",
        "        Рассчитывает ответ нейрона при предъявлении набора объектов\n",
        "        :param: X -- матрица примеров размера (n, m), каждая строка - отдельный объект\n",
        "        :return: вектор размера (n, 1) из нулей и единиц с ответами нейрона \n",
        "        \"\"\"\n",
        "        out = self.activate(X)\n",
        "        return out\n",
        "    \n",
        "    def backward_pass(self, X, y, y_pred, lr=0.001):\n",
        "        \"\"\"\n",
        "        Обновляет значения весов нейрона в соответствии с этим объектом\n",
        "        :param: X -- матрица входов размера (n, m)\n",
        "                y -- вектор правильных ответов размера (n, 1)\n",
        "                learning_rate - \"скорость обучения\" (символ alpha в формулах выше)\n",
        "        В этом методе ничего возвращать не нужно, только правильно поменять веса\n",
        "        с помощью градиентного спуска.\n",
        "        \"\"\"\n",
        "        \n",
        "        idx_m0 = torch.where(y_pred > 0.0)[0]\n",
        "        idx_l0 = torch.where(y_pred <= 0.0)[0]\n",
        "        \n",
        "        if idx_m0.shape[0]>0:\n",
        "          self.w -= lr * torch.mm(X[idx_m0].T,(y_pred[idx_m0] - y[idx_m0]))\n",
        "          self.b -= (y_pred[idx_m0] - y[idx_m0]).mean()\n",
        "\n",
        "        if idx_l0.shape[0]> 0:\n",
        "          self.w -= lr * self.alpha * torch.mm(X[idx_l0].T,(y_pred[idx_l0] - y[idx_l0]))\n",
        "          self.b -= self.alpha*(y_pred[idx_l0] - y[idx_l0]).mean()\n",
        "          \n",
        "\n",
        "    def fit(self, X, y, num_epochs=300,lr = 0.001):\n",
        "        \"\"\"\n",
        "        Спускаемся в минимум\n",
        "        :param: X -- матрица объектов размера (n, m)\n",
        "                y -- вектор правильных ответов размера (n, 1)\n",
        "                num_epochs -- количество итераций обучения\n",
        "        :return: losses -- вектор значений функции потерь\n",
        "        \"\"\"\n",
        "        gain = nn.init.calculate_gain('leaky_relu', self.alpha)\n",
        "        self.w = torch.nn.init.xavier_uniform_(torch.empty(X.shape[1],1),gain = gain).double()  # столбец (m, 1)\n",
        "        self.b = 0  # смещение\n",
        "        loss_values = []  # значения функции потерь на различных итерациях обновления весов\n",
        "        \n",
        "        for i in range(num_epochs):\n",
        "            # предсказания с текущими весами\n",
        "            y_pred = self.forward_pass(X)\n",
        "            # считаем функцию потерь с текущими весами\n",
        "            loss_values.append(self.loss(y_pred, y))\n",
        "            # обновляем веса по формуле градиентного спуска\n",
        "            self.backward_pass(X, y, y_pred,lr)\n",
        "        return loss_values\n",
        "\n",
        "    def predict(self,X):\n",
        "        preds = torch.zeros((X.shape[0],1))\n",
        "        out = self.activate(X)\n",
        "        out = out.mean(dim = 1)\n",
        "        return out"
      ],
      "execution_count": null,
      "outputs": []
    },
    {
      "cell_type": "markdown",
      "metadata": {
        "id": "IgTac_vFHuq8"
      },
      "source": [
        "**Плюсы LeakyReLU:**"
      ]
    },
    {
      "cell_type": "markdown",
      "metadata": {
        "id": "iAw-tzuLHuq9"
      },
      "source": [
        "* дифференцируемая (с доопределнием в нуле)\n",
        "* нет проблемы затухающих градиентов, как в сигмоиде\n",
        "* нет проблемы \"мёртвых нейронов\", как в ReLU"
      ]
    },
    {
      "cell_type": "code",
      "metadata": {
        "id": "nobYD69vD7Ia"
      },
      "source": [
        "import numpy as np\n",
        "import torch.nn as nn"
      ],
      "execution_count": null,
      "outputs": []
    },
    {
      "cell_type": "code",
      "metadata": {
        "id": "bC50F7rvbzlG"
      },
      "source": [
        "df_train, df_test = train_test_split(pd.read_csv(\"/content/apples_pears.csv\"),random_state = 41)\n",
        "X_train = torch.from_numpy(df_train.iloc[:,:-1].to_numpy())\n",
        "y_train = torch.from_numpy(df_train.iloc[:,-1].to_numpy()).reshape(-1,1)\n",
        "X_test = torch.from_numpy(df_test.iloc[:,:-1].to_numpy())\n",
        "y_test = torch.from_numpy(df_test.iloc[:, -1].to_numpy()).reshape(-1,1)"
      ],
      "execution_count": null,
      "outputs": []
    },
    {
      "cell_type": "code",
      "metadata": {
        "colab": {
          "base_uri": "https://localhost:8080/"
        },
        "id": "9T2PIHCub0uO",
        "outputId": "874603ac-1773-4911-f226-7d20ffc0a514"
      },
      "source": [
        "model = NeuronLeakyReLU()\n",
        "model.alpha = 0.2\n",
        "losses = model.fit(X_train,y_train, num_epochs= 30000,lr=5e-04)\n",
        "\n",
        "preds = torch.where(model.predict(X_test) > 0.50, 1,0)\n",
        "\n",
        "accuracy_score(preds,y_test.reshape(-1))\n",
        "print(f\"Accuracy with tune weight model on apples_pears dataset {accuracy_score(preds,y_test.reshape(-1))}\")"
      ],
      "execution_count": null,
      "outputs": [
        {
          "output_type": "stream",
          "name": "stdout",
          "text": [
            "Accuracy with tune weight model on apples_pears dataset 0.936\n"
          ]
        }
      ]
    },
    {
      "cell_type": "markdown",
      "metadata": {
        "id": "LzJK5KO-dpIB"
      },
      "source": [
        "Оценим качество коробочной модели LeakyReLu(Linear) + MSELoss и сравним с своей риализацией. Используем BatchNorm для нормализации данных, у нас функция линейна => вероятность exploding gradients это поможет решить данную проблему."
      ]
    },
    {
      "cell_type": "code",
      "metadata": {
        "id": "A-7sJIx0i_-n"
      },
      "source": [
        "df_train, df_test = train_test_split(pd.read_csv(\"/content/voice.csv\"),random_state = 41)\n",
        "\n",
        "X_train = torch.from_numpy(df_train.iloc[:,:-1].to_numpy())\n",
        "y_train = torch.from_numpy(np.where(df_train.iloc[:,-1].to_numpy() == \"female\", 1,0)).reshape(-1,1)\n",
        "X_test = torch.from_numpy(df_test.iloc[:,:-1].to_numpy())\n",
        "y_test = torch.from_numpy(np.where(df_test.iloc[:,-1].to_numpy() == \"female\", 1,0)).reshape(-1,1)"
      ],
      "execution_count": null,
      "outputs": []
    },
    {
      "cell_type": "code",
      "metadata": {
        "colab": {
          "base_uri": "https://localhost:8080/"
        },
        "id": "CPzPKa2ehStF",
        "outputId": "da978b49-eb09-4e59-e082-deccb81bdc56"
      },
      "source": [
        "import torch.nn as nn\n",
        "from torch.optim import SGD\n",
        "model = nn.Sequential(\n",
        "    nn.BatchNorm1d(20),\n",
        "    nn.Linear(20,1),\n",
        "    nn.LeakyReLU(),\n",
        ")\n",
        "loss_values = []\n",
        "loss = nn.MSELoss()\n",
        "optim = SGD(model.parameters(),lr = 1e-03)\n",
        "for i in range(30000):\n",
        "  # предсказания с текущими весами\n",
        "  y_pred = model(X_train.float())\n",
        "\n",
        "  # считаем функцию потерь с текущими весами\n",
        "  loss_value=loss(y_pred, y_train.float())\n",
        "  loss_values.append(loss_value)\n",
        "  # обновляем веса по формуле градиентного спуска\n",
        "  optim.zero_grad()\n",
        "  loss_value.backward()\n",
        "  optim.step()\n",
        "\n",
        "preds = torch.where(model(X_test.float()) > 0.50, 1,0)\n",
        "accuracy_score(preds,y_test.reshape(-1))\n",
        "print(f\"Accuracy with box model on voice dataset {accuracy_score(preds,y_test.reshape(-1))}\")"
      ],
      "execution_count": null,
      "outputs": [
        {
          "output_type": "stream",
          "name": "stdout",
          "text": [
            "Accuracy with box model on voice dataset 0.9709595959595959\n"
          ]
        }
      ]
    },
    {
      "cell_type": "code",
      "metadata": {
        "id": "Hu1SUsf7g83n"
      },
      "source": [
        "X_train = nn.BatchNorm1d(20)(X_train.float()).double().detach()\n",
        "X_test = nn.BatchNorm1d(20)(X_test.float()).double().detach()"
      ],
      "execution_count": null,
      "outputs": []
    },
    {
      "cell_type": "code",
      "metadata": {
        "colab": {
          "base_uri": "https://localhost:8080/"
        },
        "id": "ImiPC8Huf_6y",
        "outputId": "761c400e-acb0-454f-e3c5-3262bec29980"
      },
      "source": [
        "model = NeuronLeakyReLU()\n",
        "losses = model.fit(X_train,y_train, num_epochs= 30000,lr=1e-05)\n",
        "\n",
        "preds = torch.where(model.predict(X_test) > 0.50, 1,0)\n",
        "\n",
        "accuracy_score(preds,y_test.reshape(-1))\n",
        "print(f\"Accuracy with tune weight model on voice dataset {accuracy_score(preds,y_test.reshape(-1))}\")"
      ],
      "execution_count": null,
      "outputs": [
        {
          "output_type": "stream",
          "name": "stdout",
          "text": [
            "Accuracy with tune weight model on voice dataset 0.9709595959595959\n"
          ]
        }
      ]
    },
    {
      "cell_type": "code",
      "metadata": {
        "colab": {
          "base_uri": "https://localhost:8080/",
          "height": 550
        },
        "id": "YGUe9e5zgLcb",
        "outputId": "641adfc0-492d-4c27-a83f-c77687e3d5ea"
      },
      "source": [
        "%%time\n",
        "plt.figure(figsize=(10, 8))\n",
        "plt.plot(losses)\n",
        "plt.title('MSELoss', fontsize=15)\n",
        "plt.xlabel('iteration', fontsize=14)\n",
        "plt.ylabel('$Loss(\\hat{y}, y)$', fontsize=14)\n",
        "plt.show()"
      ],
      "execution_count": null,
      "outputs": [
        {
          "output_type": "display_data",
          "data": {
            "image/png": "[encoded data removed]",
            "text/plain": [
              "<Figure size 720x576 with 1 Axes>"
            ]
          },
          "metadata": {
            "needs_background": "light"
          }
        },
        {
          "output_type": "stream",
          "name": "stdout",
          "text": [
            "CPU times: user 247 ms, sys: 11.1 ms, total: 258 ms\n",
            "Wall time: 250 ms\n"
          ]
        }
      ]
    },
    {
      "cell_type": "markdown",
      "metadata": {
        "id": "CMUGymwyHuq_"
      },
      "source": [
        "**Возможные минусы LeakyReLU:**"
      ]
    },
    {
      "cell_type": "markdown",
      "metadata": {
        "id": "uQyqD8-LHurA"
      },
      "source": [
        "* не центрирована около 0 (может мешать скорости сходимсти)\n",
        "* немного не устойчива к \"шуму\" (см. лекции Стэнфорда)"
      ]
    },
    {
      "cell_type": "markdown",
      "metadata": {
        "id": "e7k07EGyHurB"
      },
      "source": [
        "<h2 style=\"text-align: center;\"><b>Нейрон с ELU (Exponential Linear Unit)</a></b></h2>  "
      ]
    },
    {
      "cell_type": "markdown",
      "metadata": {
        "id": "dWH3Zk2zHurB"
      },
      "source": [
        "ELU -- не так давно предложенная (в 2015 году) функция активации, которая, как говорят авторы статьи, лучше LeakyReLU. Вот формула ELU:\n",
        "\n",
        "\\begin{equation*}\n",
        "ELU(\\alpha, x) =\n",
        " \\begin{cases}\n",
        "   \\alpha (e^x - 1), &\\text{$x \\le 0$}\\\\\n",
        "   x, &\\text{$x \\gt 0$}\n",
        " \\end{cases}\n",
        "\\end{equation*}\n",
        "\n",
        "где $\\alpha$ -- маленькое число от 0 до 1.\n",
        "\n",
        "Производная здесь берётся так же, но вместо нуля будет $\\alpha$:\n",
        "\n",
        "\\begin{equation*}\n",
        "ELU'(x) = \n",
        " \\begin{cases}\n",
        "   ELU(\\alpha, x) + \\alpha, &\\text{$x \\le 0$}\\\\\n",
        "   1, &\\text{$x \\gt 0$}\n",
        " \\end{cases}\n",
        "\\end{equation*}\n",
        "\n",
        "Здесь в производной использован постой трюк -- сделано $- \\alpha + \\alpha$, чтобы вычислять было проще.\n",
        "\n",
        "График этой функции:\n",
        "\n",
        "<img src=\"http://p0.ifengimg.com/pmop/2017/0907/A004001DD141881BFD8AD62E5D31028C3BE3FAD1_size14_w446_h354.png\" width=500 height=400>\n",
        "\n",
        "Подставим LeakyReLu в Loss:\n",
        "\n",
        "$$Loss(\\hat{y}, y) = \\frac{1}{2n}\\sum_{i=1}^{n} (\\hat{y_i} - y_i)^2 = \\frac{1}{2n}\\sum_{i=1}^{n} (ELU(\\alpha, w \\cdot X_i) - y_i)^2 = \\begin{equation*}\n",
        "\\frac{1}{2n}\\sum_{i=1}^{n} \n",
        " \\begin{cases}\n",
        "   (\\alpha (e^{w \\cdot X_i} - 1) - y_i)^2, &{w \\cdot X_i \\le 0}\\\\\n",
        "   (w \\cdot X_i - y_i)^2, &{w \\cdot X_i \\gt 0}\n",
        " \\end{cases}\n",
        "\\end{equation*}$$  \n",
        "\n",
        "Здесь вам нужно выписать самим град спуск для весов. Брать производную \"в лоб\" некрасиво и неудобно. Нужно воспользоваться **правилом цепочки**, оно же **правило взятия производной сложной функции**:\n",
        "\n",
        "$$ \\frac{\\partial Loss}{\\partial w} = \\begin{equation*}\n",
        "\\frac{1}{n}\\sum_{i=1}^{n} \n",
        " \\begin{cases}\n",
        "   X^T(ELU(\\alpha, w \\cdot X_i)+\\alpha - y_i), &{w \\cdot X_i \\le 0}\\\\\n",
        "   X^T(w \\cdot X_i - y_i) , &{w \\cdot X_i \\gt 0}\n",
        " \\end{cases}\n",
        "\\end{equation*}$$\n",
        "\n",
        "* Реализуйте ELU и её производную:"
      ]
    },
    {
      "cell_type": "markdown",
      "metadata": {
        "id": "P5p1eDNGzR2V"
      },
      "source": [
        "Теперь нужно написать нейрон с LeakyReLU функцией активации. Здесь всё очень похоже на перцептрон, но будут по-другому обновляться веса и другая функция активации:"
      ]
    },
    {
      "cell_type": "code",
      "metadata": {
        "id": "3cxpveqozR2X"
      },
      "source": [
        "class NeuronELU:\n",
        "    def __init__(self, w=None, b=0):\n",
        "        \"\"\"\n",
        "        :param: w -- вектор весов\n",
        "        :param: b -- смещение\n",
        "        \"\"\"\n",
        "        self.w = w\n",
        "        self.b = b\n",
        "        self.alpha = 0.02\n",
        "        \n",
        "        \n",
        "    def activate(self, x,):\n",
        "        linear = torch.mm(x,self.w) + self.b\n",
        "        return torch.where(linear > 0,linear, (torch.exp(linear)-1) * self.alpha)\n",
        "    \n",
        "    def loss(self, y_pred, y_target):\n",
        "        return 0.5 * ((y_pred - y_target) ** 2).mean()\n",
        "\n",
        "        \n",
        "    def forward_pass(self, X):\n",
        "        \"\"\"\n",
        "        Рассчитывает ответ нейрона при предъявлении набора объектов\n",
        "        :param: X -- матрица примеров размера (n, m), каждая строка - отдельный объект\n",
        "        :return: вектор размера (n, 1) из нулей и единиц с ответами нейрона \n",
        "        \"\"\"\n",
        "        out = self.activate(X)\n",
        "        return out\n",
        "    \n",
        "    def backward_pass(self, X, y, y_pred, lr=0.005):\n",
        "        \"\"\"\n",
        "        Обновляет значения весов нейрона в соответствии с этим объектом\n",
        "        :param: X -- матрица входов размера (n, m)\n",
        "                y -- вектор правильных ответов размера (n, 1)\n",
        "                learning_rate - \"скорость обучения\" (символ alpha в формулах выше)\n",
        "        В этом методе ничего возвращать не нужно, только правильно поменять веса\n",
        "        с помощью градиентного спуска.\n",
        "        \"\"\"\n",
        "        idx_m0 =torch.where(y_pred > 0.0)[0]\n",
        "        if idx_m0.shape[0]>0:\n",
        "          self.w -= lr*torch.mm(X[idx_m0].T,(y_pred[idx_m0] - y[idx_m0]))\n",
        "          self.b -= lr*(y_pred[idx_m0] - y[idx_m0]).mean()\n",
        "\n",
        "        idx_l0 =torch.where(y_pred <= 0.0)[0]\n",
        "        if idx_l0.shape[0]> 0:\n",
        "          self.w -= lr*torch.mm(X[idx_l0].T,(y_pred[idx_l0]+self.alpha - y[idx_l0]))\n",
        "          self.b -= lr*(y_pred[idx_l0]+self.alpha - y[idx_l0]).mean()\n",
        "        \n",
        "    def fit(self, X, y, num_epochs=300,lr = 0.005):\n",
        "        \"\"\"\n",
        "        Спускаемся в минимум\n",
        "        :param: X -- матрица объектов размера (n, m)\n",
        "                y -- вектор правильных ответов размера (n, 1)\n",
        "                num_epochs -- количество итераций обучения\n",
        "        :return: losses -- вектор значений функции потерь\n",
        "        \"\"\"\n",
        "        self.w = torch.rand((X.shape[1],1)).double()  # столбец (m, 1)\n",
        "        self.b = 0  # смещение\n",
        "        loss_values = []  # значения функции потерь на различных итерациях обновления весов\n",
        "        \n",
        "        for i in range(num_epochs):\n",
        "            # предсказания с текущими весами\n",
        "            y_pred = self.forward_pass(X)\n",
        "            # считаем функцию потерь с текущими весами\n",
        "            loss_values.append(self.loss(y_pred, y))\n",
        "            # обновляем веса по формуле градиентного спуска\n",
        "            self.backward_pass(X, y, y_pred,lr)\n",
        "\n",
        "        return loss_values\n",
        "\n",
        "    def predict(self,X):\n",
        "        preds = torch.zeros((X.shape[0],1))\n",
        "        out = self.activate(X)\n",
        "        out = out.mean(dim = 1)\n",
        "        return out"
      ],
      "execution_count": null,
      "outputs": []
    },
    {
      "cell_type": "markdown",
      "metadata": {
        "id": "MYiGj1wnHur4"
      },
      "source": [
        "**Плюсы ELU:**"
      ]
    },
    {
      "cell_type": "markdown",
      "metadata": {
        "id": "xOGAh06uHur5"
      },
      "source": [
        "* дифференцируемая (с доопределнием в нуле)\n",
        "* нет проблемы затухающих градиентов, как в сигмоиде\n",
        "* нет проблемы \"мёртвых нейронов\", как в ReLU\n",
        "* более устойчива к \"шуму\" (см. лекции Стэнфорда)"
      ]
    },
    {
      "cell_type": "code",
      "metadata": {
        "id": "QLFsgBVjsTEb"
      },
      "source": [
        "df_train, df_test = train_test_split(pd.read_csv(\"/content/apples_pears.csv\"),random_state = 41)\n",
        "X_train = torch.from_numpy(df_train.iloc[:,:-1].to_numpy())\n",
        "y_train = torch.from_numpy(df_train.iloc[:,-1].to_numpy()).reshape(-1,1)\n",
        "X_test = torch.from_numpy(df_test.iloc[:,:-1].to_numpy())\n",
        "y_test = torch.from_numpy(df_test.iloc[:, -1].to_numpy()).reshape(-1,1)\n"
      ],
      "execution_count": null,
      "outputs": []
    },
    {
      "cell_type": "code",
      "metadata": {
        "colab": {
          "base_uri": "https://localhost:8080/"
        },
        "id": "y-cdDxYYsJtv",
        "outputId": "e68490cd-907b-429e-f210-a3795b1f0fda"
      },
      "source": [
        "model = NeuronELU()\n",
        "losses = model.fit(X_train,y_train, num_epochs= 100,lr=1e-03)\n",
        "\n",
        "preds = torch.where(model.predict(X_test) > 0.50, 1,0)\n",
        "\n",
        "accuracy_score(preds,y_test.reshape(-1))\n",
        "print(f\"Accuracy with tune weight model {accuracy_score(preds,y_test.reshape(-1))}\")"
      ],
      "execution_count": null,
      "outputs": [
        {
          "output_type": "stream",
          "name": "stdout",
          "text": [
            "Accuracy with tune weight model 0.972\n"
          ]
        }
      ]
    },
    {
      "cell_type": "markdown",
      "metadata": {
        "id": "DJ0JvHi8eIF4"
      },
      "source": [
        "Оценим качество коробочной модели LeakyReLu(Linear) + MSELoss и сравним с своей риализацией. Используем BatchNorm для нормализации данных, у нас функция линейна => вероятность exploding gradients это поможет решить данную проблему."
      ]
    },
    {
      "cell_type": "code",
      "metadata": {
        "id": "9xwby6wEhyCh"
      },
      "source": [
        "df_train, df_test = train_test_split(pd.read_csv(\"/content/voice.csv\"),random_state = 41)\n",
        "\n",
        "X_train = torch.from_numpy(df_train.iloc[:,:-1].to_numpy())\n",
        "y_train = torch.from_numpy(np.where(df_train.iloc[:,-1].to_numpy() == \"female\", 1,0)).reshape(-1,1)\n",
        "X_test = torch.from_numpy(df_test.iloc[:,:-1].to_numpy())\n",
        "y_test = torch.from_numpy(np.where(df_test.iloc[:,-1].to_numpy() == \"female\", 1,0)).reshape(-1,1)"
      ],
      "execution_count": null,
      "outputs": []
    },
    {
      "cell_type": "code",
      "metadata": {
        "colab": {
          "base_uri": "https://localhost:8080/"
        },
        "id": "hEn4QKQqh4sd",
        "outputId": "717a48ed-a5d6-4bc7-ac68-abb8152f15e2"
      },
      "source": [
        "import torch.nn as nn\n",
        "from torch.optim import SGD\n",
        "model = nn.Sequential(\n",
        "    nn.BatchNorm1d(20),\n",
        "    nn.Linear(20,1),\n",
        "    nn.ELU(),\n",
        ")\n",
        "loss_values = []\n",
        "loss = nn.MSELoss()\n",
        "optim = SGD(model.parameters(),lr = 1e-03)\n",
        "for i in range(30000):\n",
        "  # предсказания с текущими весами\n",
        "  y_pred = model(X_train.float())\n",
        "\n",
        "  # считаем функцию потерь с текущими весами\n",
        "  loss_value=loss(y_pred, y_train.float())\n",
        "  loss_values.append(loss_value)\n",
        "  # обновляем веса по формуле градиентного спуска\n",
        "  optim.zero_grad()\n",
        "  loss_value.backward()\n",
        "  optim.step()\n",
        "\n",
        "preds = torch.where(model(X_test.float()) > 0.50, 1,0)\n",
        "accuracy_score(preds,y_test.reshape(-1))\n",
        "print(f\"Accuracy with box model on voice dataset {accuracy_score(preds,y_test.reshape(-1))}\")"
      ],
      "execution_count": null,
      "outputs": [
        {
          "output_type": "stream",
          "name": "stdout",
          "text": [
            "Accuracy with box model on voice dataset 0.9734848484848485\n"
          ]
        }
      ]
    },
    {
      "cell_type": "code",
      "metadata": {
        "id": "g8bdZPSIiB6M"
      },
      "source": [
        "X_train = nn.BatchNorm1d(20)(X_train.float()).double().detach()\n",
        "X_test = nn.BatchNorm1d(20)(X_test.float()).double().detach()"
      ],
      "execution_count": null,
      "outputs": []
    },
    {
      "cell_type": "code",
      "metadata": {
        "colab": {
          "base_uri": "https://localhost:8080/"
        },
        "id": "ZnDWA6hsiDND",
        "outputId": "8c4c9200-c561-4246-b714-3fb80971dd35"
      },
      "source": [
        "model = NeuronELU()\n",
        "model.alpha = 1.0\n",
        "losses = model.fit(X_train,y_train, num_epochs= 50000,lr=1e-06)\n",
        "\n",
        "preds = torch.where(model.predict(X_test) > 0.50, 1,0)\n",
        "\n",
        "accuracy_score(preds,y_test.reshape(-1))\n",
        "print(f\"Accuracy with tune weight model on voice dataset {accuracy_score(preds,y_test.reshape(-1))}\")"
      ],
      "execution_count": null,
      "outputs": [
        {
          "output_type": "stream",
          "name": "stdout",
          "text": [
            "Accuracy with tune weight model on voice dataset 0.9179292929292929\n"
          ]
        }
      ]
    },
    {
      "cell_type": "code",
      "metadata": {
        "colab": {
          "base_uri": "https://localhost:8080/",
          "height": 550
        },
        "id": "57C02kqAeQ7S",
        "outputId": "66648d51-1873-4a13-ba8f-1d22f615611e"
      },
      "source": [
        "%%time\n",
        "plt.figure(figsize=(10, 8))\n",
        "plt.plot(losses)\n",
        "plt.title('MSELoss', fontsize=15)\n",
        "plt.xlabel('iteration', fontsize=14)\n",
        "plt.ylabel('$Loss(\\hat{y}, y)$', fontsize=14)\n",
        "plt.show()"
      ],
      "execution_count": null,
      "outputs": [
        {
          "output_type": "display_data",
          "data": {
            "image/png": "[encoded data removed]",
            "text/plain": [
              "<Figure size 720x576 with 1 Axes>"
            ]
          },
          "metadata": {
            "needs_background": "light"
          }
        },
        {
          "output_type": "stream",
          "name": "stdout",
          "text": [
            "CPU times: user 284 ms, sys: 5.02 ms, total: 289 ms\n",
            "Wall time: 288 ms\n"
          ]
        }
      ]
    },
    {
      "cell_type": "markdown",
      "metadata": {
        "id": "r4doD89fHur6"
      },
      "source": [
        "**Возможные минусы ELU:**"
      ]
    },
    {
      "cell_type": "markdown",
      "metadata": {
        "id": "AO4bvkKGHur6"
      },
      "source": [
        "* не очень хорошо центрирована около 0 (может мешать скорости сходимсти)\n",
        "* вычислительно дольше, чем ReLU и LeakyReLU"
      ]
    }
  ]
}